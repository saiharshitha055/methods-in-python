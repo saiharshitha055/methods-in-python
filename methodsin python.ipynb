{
 "cells": [
  {
   "cell_type": "code",
   "execution_count": 3,
   "id": "a84d6132",
   "metadata": {},
   "outputs": [
    {
     "name": "stdout",
     "output_type": "stream",
     "text": [
      "77.66666666666667\n"
     ]
    }
   ],
   "source": [
    "class Student:\n",
    "    school='PPS'\n",
    "    def __init__(self,m1,m2,m3):\n",
    "        self.m1=m1\n",
    "        self.m2=m2\n",
    "        self.m3=m3\n",
    "    def avg(self):\n",
    "        return (self.m1+self.m2+self.m3)/3\n",
    "    def info(cls):\n",
    "        return cls.school\n",
    "s1=Student(65,90,78)\n",
    "s2=Student(23,48,79)\n",
    "print(s1.avg())        "
   ]
  },
  {
   "cell_type": "code",
   "execution_count": 3,
   "id": "acb64184",
   "metadata": {},
   "outputs": [
    {
     "name": "stdout",
     "output_type": "stream",
     "text": [
      "156\n"
     ]
    }
   ],
   "source": [
    "class garage:\n",
    "    car='BMW'\n",
    "    def __init__(self,v1,v2):\n",
    "        self.v1=v1\n",
    "        self.v2=v2\n",
    "    def vel(self):\n",
    "        return (self.v1+self.v2)\n",
    "    def info(cls):\n",
    "        return cls.BMW\n",
    "g1=garage(67,89)\n",
    "g2=garage(67,90)\n",
    "print(g1.vel())\n"
   ]
  },
  {
   "cell_type": "code",
   "execution_count": null,
   "id": "454c3676",
   "metadata": {},
   "outputs": [],
   "source": []
  }
 ],
 "metadata": {
  "kernelspec": {
   "display_name": "Python 3",
   "language": "python",
   "name": "python3"
  },
  "language_info": {
   "codemirror_mode": {
    "name": "ipython",
    "version": 3
   },
   "file_extension": ".py",
   "mimetype": "text/x-python",
   "name": "python",
   "nbconvert_exporter": "python",
   "pygments_lexer": "ipython3",
   "version": "3.8.4"
  }
 },
 "nbformat": 4,
 "nbformat_minor": 5
}
