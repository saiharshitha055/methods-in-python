{
 "cells": [
  {
   "cell_type": "code",
   "execution_count": 2,
   "id": "a84d6132",
   "metadata": {},
   "outputs": [
    {
     "name": "stdout",
     "output_type": "stream",
     "text": [
      "77.66666666666667\n",
      "PPS\n"
     ]
    }
   ],
   "source": [
    "class Student:\n",
    "    school='PPS'\n",
    "    def __init__(self,m1,m2,m3):\n",
    "        self.m1=m1\n",
    "        self.m2=m2\n",
    "        self.m3=m3\n",
    "    def avg(self):\n",
    "        return (self.m1+self.m2+self.m3)/3\n",
    "    @classmethod\n",
    "    def info(cls):\n",
    "        return cls.school\n",
    "s1=Student(65,90,78)\n",
    "s2=Student(23,48,79)\n",
    "print(s1.avg()) \n",
    "print(Student.info())       "
   ]
  },
  {
   "cell_type": "code",
   "execution_count": 4,
   "id": "acb64184",
   "metadata": {},
   "outputs": [
    {
     "name": "stdout",
     "output_type": "stream",
     "text": [
      "84.66666666666667\n",
      "PPS\n",
      "This is a student class....\n"
     ]
    }
   ],
   "source": [
    "class Student:\n",
    "    school='PPS'\n",
    "    def __init__(self,m1,m2,m3):\n",
    "        self.m1=m1\n",
    "        self.m2=m2\n",
    "        self.m3=m3\n",
    "    def avg(self):\n",
    "        return ((self.m1+self.m2+self.m3)/3)   \n",
    "    @classmethod\n",
    "    def getschool(cls):\n",
    "        return cls.school\n",
    "    @staticmethod\n",
    "    def info():\n",
    "        print(\"This is a student class....\")\n",
    "s1=Student(78,90,86)\n",
    "s2=Student(87,90,85)\n",
    "print(s1.avg())        \n",
    "print(Student.getschool())\n",
    "Student.info()\n"
   ]
  },
  {
   "cell_type": "code",
   "execution_count": null,
   "id": "454c3676",
   "metadata": {},
   "outputs": [],
   "source": []
  }
 ],
 "metadata": {
  "kernelspec": {
   "display_name": "Python 3",
   "language": "python",
   "name": "python3"
  },
  "language_info": {
   "codemirror_mode": {
    "name": "ipython",
    "version": 3
   },
   "file_extension": ".py",
   "mimetype": "text/x-python",
   "name": "python",
   "nbconvert_exporter": "python",
   "pygments_lexer": "ipython3",
   "version": "3.8.4"
  }
 },
 "nbformat": 4,
 "nbformat_minor": 5
}
